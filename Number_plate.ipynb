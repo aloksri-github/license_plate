{
  "nbformat": 4,
  "nbformat_minor": 0,
  "metadata": {
    "colab": {
      "provenance": [],
      "authorship_tag": "ABX9TyMcI2Q4D2qg1aoGRp5L3/H9",
      "include_colab_link": true
    },
    "kernelspec": {
      "name": "python3",
      "display_name": "Python 3"
    },
    "language_info": {
      "name": "python"
    },
    "accelerator": "GPU",
    "gpuClass": "standard"
  },
  "cells": [
    {
      "cell_type": "markdown",
      "metadata": {
        "id": "view-in-github",
        "colab_type": "text"
      },
      "source": [
        "<a href=\"https://colab.research.google.com/github/aloksri-github/license_plate/blob/main/Number_plate.ipynb\" target=\"_parent\"><img src=\"https://colab.research.google.com/assets/colab-badge.svg\" alt=\"Open In Colab\"/></a>"
      ]
    },
    {
      "cell_type": "code",
      "execution_count": 1,
      "metadata": {
        "colab": {
          "base_uri": "https://localhost:8080/",
          "height": 35
        },
        "id": "yFpuLFDJCo3c",
        "outputId": "6ea603a9-6c10-4879-c02f-da699a86bb6a"
      },
      "outputs": [
        {
          "output_type": "execute_result",
          "data": {
            "text/plain": [
              "'/device:GPU:0'"
            ],
            "application/vnd.google.colaboratory.intrinsic+json": {
              "type": "string"
            }
          },
          "metadata": {},
          "execution_count": 1
        }
      ],
      "source": [
        "import tensorflow as tf\n",
        "tf.test.gpu_device_name()"
      ]
    },
    {
      "cell_type": "code",
      "source": [
        "from tensorflow.python.client import device_lib\n",
        "device_lib.list_local_devices()"
      ],
      "metadata": {
        "id": "QZgQC4mqEL95"
      },
      "execution_count": null,
      "outputs": []
    },
    {
      "cell_type": "code",
      "source": [
        "!cat /proc/meminfo"
      ],
      "metadata": {
        "colab": {
          "base_uri": "https://localhost:8080/"
        },
        "id": "ZPtcHPwlEmtL",
        "outputId": "33fb69b4-6859-4ebf-e28d-937bb493e278"
      },
      "execution_count": 3,
      "outputs": [
        {
          "output_type": "stream",
          "name": "stdout",
          "text": [
            "MemTotal:       13297228 kB\n",
            "MemFree:         9644884 kB\n",
            "MemAvailable:   11883440 kB\n",
            "Buffers:           68208 kB\n",
            "Cached:          2114584 kB\n",
            "SwapCached:            0 kB\n",
            "Active:           488764 kB\n",
            "Inactive:        2842440 kB\n",
            "Active(anon):        884 kB\n",
            "Inactive(anon):   890620 kB\n",
            "Active(file):     487880 kB\n",
            "Inactive(file):  1951820 kB\n",
            "Unevictable:           0 kB\n",
            "Mlocked:               0 kB\n",
            "SwapTotal:             0 kB\n",
            "SwapFree:              0 kB\n",
            "Dirty:               332 kB\n",
            "Writeback:             0 kB\n",
            "AnonPages:       1148452 kB\n",
            "Mapped:           659360 kB\n",
            "Shmem:             11412 kB\n",
            "KReclaimable:      80612 kB\n",
            "Slab:             119996 kB\n",
            "SReclaimable:      80612 kB\n",
            "SUnreclaim:        39384 kB\n",
            "KernelStack:        4400 kB\n",
            "PageTables:        12656 kB\n",
            "NFS_Unstable:          0 kB\n",
            "Bounce:                0 kB\n",
            "WritebackTmp:          0 kB\n",
            "CommitLimit:     6648612 kB\n",
            "Committed_AS:    3405580 kB\n",
            "VmallocTotal:   34359738367 kB\n",
            "VmallocUsed:       52864 kB\n",
            "VmallocChunk:          0 kB\n",
            "Percpu:             1344 kB\n",
            "HardwareCorrupted:     0 kB\n",
            "AnonHugePages:         0 kB\n",
            "ShmemHugePages:        0 kB\n",
            "ShmemPmdMapped:        0 kB\n",
            "FileHugePages:         0 kB\n",
            "FilePmdMapped:         0 kB\n",
            "CmaTotal:              0 kB\n",
            "CmaFree:               0 kB\n",
            "HugePages_Total:       0\n",
            "HugePages_Free:        0\n",
            "HugePages_Rsvd:        0\n",
            "HugePages_Surp:        0\n",
            "Hugepagesize:       2048 kB\n",
            "Hugetlb:               0 kB\n",
            "DirectMap4k:      222016 kB\n",
            "DirectMap2M:     5017600 kB\n",
            "DirectMap1G:    10485760 kB\n"
          ]
        }
      ]
    }
  ]
}